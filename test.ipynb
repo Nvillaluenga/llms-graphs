{
 "cells": [
  {
   "cell_type": "code",
   "execution_count": 1,
   "metadata": {},
   "outputs": [
    {
     "data": {
      "text/plain": [
       "'Hi! How can I assist you today?'"
      ]
     },
     "execution_count": 1,
     "metadata": {},
     "output_type": "execute_result"
    }
   ],
   "source": [
    "# Test LLM wrapper\n",
    "from src.llm.OpenAIModel import OpenAIModel\n",
    "model_config = {\"model\" : \"gpt-4o-mini\",\n",
    "        \"temperature\" : 0,\n",
    "        \"max_tokens\" : None,\n",
    "        \"timeout\" : None,\n",
    "        \"max_retries\" : 2\n",
    "        }\n",
    "\n",
    "model = OpenAIModel(name=\"open_ai_test\", config=model_config)\n",
    "\n",
    "model.invoke(\"This a test prompt, say hi\")"
   ]
  },
  {
   "cell_type": "code",
   "execution_count": 2,
   "metadata": {},
   "outputs": [
    {
     "data": {
      "text/plain": [
       "1.0"
      ]
     },
     "execution_count": 2,
     "metadata": {},
     "output_type": "execute_result"
    }
   ],
   "source": [
    "from src.test.Metric import LLMMetric, Rouge1Metric\n",
    "\n",
    "random_llm_metric_prompt = \"You are a random number generator, you generate number from 1 to 100, you only return said number and nothing more, please return a random number:\"\n",
    "random_llm_metric = LLMMetric(\"random_llm_metric\", prompt=random_llm_metric_prompt, llm=model)\n",
    "\n",
    "random_llm_metric.eval(\"predicted\", \"target\", \"instruction\")\n",
    "rouge1_metric = Rouge1Metric()\n",
    "rouge1_metric.eval(\"predicted\", \"predicted\", \"instruction\")\n"
   ]
  },
  {
   "cell_type": "code",
   "execution_count": 3,
   "metadata": {},
   "outputs": [],
   "source": [
    "from src.test.TestCase import TestCase\n",
    "\n",
    "test_case1 = TestCase(input_vars={}, expected_output=\"expected output\", generated_output=\"generated output\")\n",
    "test_case2 = TestCase(input_vars={}, expected_output=\"same\", generated_output=\"same\")"
   ]
  },
  {
   "cell_type": "code",
   "execution_count": 6,
   "metadata": {},
   "outputs": [],
   "source": [
    "from src.test.Evaluator import WeightedSumEvaluator\n",
    "\n",
    "custom_eval = WeightedSumEvaluator(metrics=[random_llm_metric, rouge1_metric], weights={rouge1_metric: 1, \"random_llm_metric\": 100})"
   ]
  },
  {
   "cell_type": "code",
   "execution_count": 7,
   "metadata": {},
   "outputs": [
    {
     "data": {
      "text/plain": [
       "0.5742574257425742"
      ]
     },
     "execution_count": 7,
     "metadata": {},
     "output_type": "execute_result"
    }
   ],
   "source": [
    "custom_eval.evaluate(test_case=test_case2, instruction=\"instruction\")"
   ]
  },
  {
   "cell_type": "code",
   "execution_count": null,
   "metadata": {},
   "outputs": [],
   "source": []
  },
  {
   "cell_type": "code",
   "execution_count": null,
   "metadata": {},
   "outputs": [],
   "source": []
  }
 ],
 "metadata": {
  "kernelspec": {
   "display_name": ".venv",
   "language": "python",
   "name": "python3"
  },
  "language_info": {
   "codemirror_mode": {
    "name": "ipython",
    "version": 3
   },
   "file_extension": ".py",
   "mimetype": "text/x-python",
   "name": "python",
   "nbconvert_exporter": "python",
   "pygments_lexer": "ipython3",
   "version": "3.12.1"
  }
 },
 "nbformat": 4,
 "nbformat_minor": 2
}
