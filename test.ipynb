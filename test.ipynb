{
 "cells": [
  {
   "cell_type": "code",
   "execution_count": 1,
   "metadata": {},
   "outputs": [
    {
     "data": {
      "text/plain": [
       "'Hi! How can I assist you today?'"
      ]
     },
     "execution_count": 1,
     "metadata": {},
     "output_type": "execute_result"
    }
   ],
   "source": [
    "# Test LLM wrapper\n",
    "from src.llm.OpenAIModel import OpenAIModel\n",
    "model_config = {\"model\" : \"gpt-4o-mini\",\n",
    "        \"temperature\" : 0,\n",
    "        \"max_tokens\" : None,\n",
    "        \"timeout\" : None,\n",
    "        \"max_retries\" : 2\n",
    "        }\n",
    "\n",
    "model = OpenAIModel(name=\"open_ai_test\", config=model_config)\n",
    "\n",
    "model.invoke(\"This a test prompt, say hi\")"
   ]
  },
  {
   "cell_type": "code",
   "execution_count": 2,
   "metadata": {},
   "outputs": [
    {
     "data": {
      "text/plain": [
       "1.0"
      ]
     },
     "execution_count": 2,
     "metadata": {},
     "output_type": "execute_result"
    }
   ],
   "source": [
    "from src.test.Metric import LLMMetric, Rouge1Metric\n",
    "\n",
    "random_llm_metric_prompt = \"You are a random number generator, you generate number from 1 to 100, you only return said number and nothing more, please return a random number:\"\n",
    "random_llm_metric = LLMMetric(\"random_llm_metric\", prompt=random_llm_metric_prompt, llm=model)\n",
    "\n",
    "random_llm_metric.eval(\"predicted\", \"target\", \"instruction\")\n",
    "rouge1_metric = Rouge1Metric()\n",
    "rouge1_metric.eval(\"predicted\", \"predicted\", \"instruction\")\n"
   ]
  },
  {
   "cell_type": "code",
   "execution_count": 3,
   "metadata": {},
   "outputs": [],
   "source": [
    "from src.test.TestCase import TestCase\n",
    "\n",
    "test_case1 = TestCase(input_vars={}, expected_output=\"expected output\", generated_output=\"generated output\")\n",
    "test_case2 = TestCase(input_vars={}, expected_output=\"same\", generated_output=\"same\")"
   ]
  },
  {
   "cell_type": "code",
   "execution_count": 7,
   "metadata": {},
   "outputs": [],
   "source": [
    "from src.test.Evaluator import WeightedSumEvaluator\n",
    "\n",
    "custom_eval = WeightedSumEvaluator(metrics=[random_llm_metric, rouge1_metric], weights={rouge1_metric: 100, \"random_llm_metric\": 1})"
   ]
  },
  {
   "cell_type": "code",
   "execution_count": 8,
   "metadata": {},
   "outputs": [
    {
     "ename": "AttributeError",
     "evalue": "'list' object has no attribute 'get'",
     "output_type": "error",
     "traceback": [
      "\u001b[1;31m---------------------------------------------------------------------------\u001b[0m",
      "\u001b[1;31mAttributeError\u001b[0m                            Traceback (most recent call last)",
      "Cell \u001b[1;32mIn[8], line 1\u001b[0m\n\u001b[1;32m----> 1\u001b[0m \u001b[43mcustom_eval\u001b[49m\u001b[38;5;241;43m.\u001b[39;49m\u001b[43mevaluate\u001b[49m\u001b[43m(\u001b[49m\u001b[43mtest_case\u001b[49m\u001b[38;5;241;43m=\u001b[39;49m\u001b[43mtest_case2\u001b[49m\u001b[43m,\u001b[49m\u001b[43m \u001b[49m\u001b[43minstruction\u001b[49m\u001b[38;5;241;43m=\u001b[39;49m\u001b[38;5;124;43m\"\u001b[39;49m\u001b[38;5;124;43minstruction\u001b[39;49m\u001b[38;5;124;43m\"\u001b[39;49m\u001b[43m)\u001b[49m\n",
      "File \u001b[1;32mc:\\Users\\nacho\\Desktop\\Nacho\\repos\\llms-graphs\\src\\test\\Evaluator.py:56\u001b[0m, in \u001b[0;36mWeightedSumEvaluator.evaluate\u001b[1;34m(self, test_case, instruction)\u001b[0m\n\u001b[0;32m     49\u001b[0m     result \u001b[38;5;241m=\u001b[39m metric\u001b[38;5;241m.\u001b[39meval(\n\u001b[0;32m     50\u001b[0m         predicted\u001b[38;5;241m=\u001b[39mtest_case\u001b[38;5;241m.\u001b[39mgenerated_output,\n\u001b[0;32m     51\u001b[0m         target\u001b[38;5;241m=\u001b[39mtest_case\u001b[38;5;241m.\u001b[39mexpected_output,\n\u001b[0;32m     52\u001b[0m         instruction\u001b[38;5;241m=\u001b[39minstruction,\n\u001b[0;32m     53\u001b[0m     )\n\u001b[0;32m     54\u001b[0m     results[metric\u001b[38;5;241m.\u001b[39mname] \u001b[38;5;241m=\u001b[39m result\n\u001b[1;32m---> 56\u001b[0m \u001b[38;5;28;01mreturn\u001b[39;00m \u001b[38;5;28;43mself\u001b[39;49m\u001b[38;5;241;43m.\u001b[39;49m\u001b[43maggregate_metrics\u001b[49m\u001b[43m(\u001b[49m\u001b[43mresults\u001b[49m\u001b[43m)\u001b[49m\n",
      "File \u001b[1;32mc:\\Users\\nacho\\Desktop\\Nacho\\repos\\llms-graphs\\src\\test\\Evaluator.py:34\u001b[0m, in \u001b[0;36mWeightedSumEvaluator.aggregate_metrics\u001b[1;34m(self, results)\u001b[0m\n\u001b[0;32m     31\u001b[0m scores \u001b[38;5;241m=\u001b[39m []\n\u001b[0;32m     32\u001b[0m \u001b[38;5;28;01mfor\u001b[39;00m metric_name, score \u001b[38;5;129;01min\u001b[39;00m results\u001b[38;5;241m.\u001b[39mitems():\n\u001b[0;32m     33\u001b[0m     weights\u001b[38;5;241m.\u001b[39mappend(\n\u001b[1;32m---> 34\u001b[0m         \u001b[38;5;28;43mself\u001b[39;49m\u001b[38;5;241;43m.\u001b[39;49m\u001b[43mweights\u001b[49m\u001b[38;5;241;43m.\u001b[39;49m\u001b[43mget\u001b[49m(metric_name, \u001b[38;5;241m1\u001b[39m)\n\u001b[0;32m     35\u001b[0m     )  \u001b[38;5;66;03m# 1 is the default weight\u001b[39;00m\n\u001b[0;32m     36\u001b[0m     scores\u001b[38;5;241m.\u001b[39mappend(score)\n\u001b[0;32m     38\u001b[0m weighted_sum \u001b[38;5;241m=\u001b[39m np\u001b[38;5;241m.\u001b[39mdot(scores, weights) \u001b[38;5;241m/\u001b[39m \u001b[38;5;28msum\u001b[39m(weights)\n",
      "\u001b[1;31mAttributeError\u001b[0m: 'list' object has no attribute 'get'"
     ]
    }
   ],
   "source": [
    "custom_eval.evaluate(test_case=test_case2, instruction=\"instruction\")"
   ]
  },
  {
   "cell_type": "code",
   "execution_count": null,
   "metadata": {},
   "outputs": [],
   "source": []
  }
 ],
 "metadata": {
  "kernelspec": {
   "display_name": ".venv",
   "language": "python",
   "name": "python3"
  },
  "language_info": {
   "codemirror_mode": {
    "name": "ipython",
    "version": 3
   },
   "file_extension": ".py",
   "mimetype": "text/x-python",
   "name": "python",
   "nbconvert_exporter": "python",
   "pygments_lexer": "ipython3",
   "version": "3.12.1"
  }
 },
 "nbformat": 4,
 "nbformat_minor": 2
}
